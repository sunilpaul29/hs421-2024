{
 "cells": [
  {
   "cell_type": "markdown",
   "id": "334de299-bbfc-4670-88db-90f7a27e47ae",
   "metadata": {},
   "source": [
    "## Regression, RCT etc"
   ]
  },
  {
   "cell_type": "markdown",
   "id": "e715746c-2d3b-46bb-af6a-c18c1d1b602e",
   "metadata": {},
   "source": [
    "### Q 1\n",
    "A small company sells medical supplies to hospitals. Management wants to assess the\n",
    "efficacy of the companyís advertising, and an analyst has produced the following three\n",
    "regressions:\n",
    "\n",
    "$$sales_i = -516.4+ 2.47 advertising_i+ 1.86 bonus_i +e_i$$\n",
    "$$sales_i = -156.5+ 2.77 advertising_i+e_i$$\n",
    "$$bonus_i= 193.5 +0.16 advertising_i +e_i$$\n",
    "\n",
    "\n",
    "where $sales_i$ are sales in territory $i$ (in 1,000 of british pounds), $advertising_i$\n",
    "is spending on advertising(in 100 of british pounds), and $bonus_i$ is the amount of bonuses paid to sales people in the territory (in  100 of british pounds).\n",
    "-  Why is the coefficient on advertising different in the first two regressions? Show how the coeffient in the second regression relates to the one in the first using the information provided.\n",
    "-  Is either of the regressions likely to provide a good indication of the causal effect of advertising spending on sales? Why or why not? (Source: problem set accompaning MM)\n",
    "#### Hints for the answer\n",
    "Substitute eq 3 into 1. The independent variables are linearly related( eq 3)"
   ]
  },
  {
   "cell_type": "markdown",
   "id": "bdcacabf-d9a4-49ca-9a04-88fc40984007",
   "metadata": {},
   "source": [
    "## Binary Choice models\n",
    "### Q1\n",
    "One of your friend estimated  Linear probability model(LPM), logistic regression(logit) and probit regressions. The estimated models are given below (All the coefficients are statistically significant at 5% level):\n",
    "\n",
    "LPM:-$\\hat{y} = 0.052 + 0.046 educ − 0.224 kids$\n",
    "\n",
    "Probit:  $P(\\hat{y}|educ, kids) =\\Phi(−1.259 + 0.129  educ − 0.621 kids)$\n",
    "\n",
    "Logit: $P(\\hat{y}|educ, kids) = \\Lambda(−2.053 + 0.210 educ − 1.010 kids)$\n",
    "\n",
    "where $y$ is female labour force participation it takes value '1' if the person is working and '0' otherwise, $edu$ is eduation of the person in terms of number of years of schooling and $kids$ is number of kids under the age of 6.\n",
    "- What is the predicted probability of labor force participation for a woman who has 12 years of education and 2 children under the age of 6 years old? 3 children under theage of 6 years old?\n",
    "(Hints for Ans: substiute these values in the equation above.)\n",
    "\n",
    "educ=12, kids=2\n",
    "\n",
    "\n",
    "__LPM__: $0.052+ 0.046 ∗ 12−0.224 ∗ 2 = 0.156$.Thus, for a woman who has 12 years\n",
    "of education, and 2 children under the age of 6, we would predict that her probability of participating in the labor force is 15.6%\n",
    "\n",
    "__Probit__:Calcuate the z score of normal distiribution- $z=−1.259 + 0.129 ∗ 12 − 0.621 ∗ 3 = −0.953$. Thus $\\Phi(-0.953)=0.17$(we can get this from normal distibution tables). Hence the probability of participating in the labor force is 17%\n",
    "\n",
    "__Logit__ Calculate z bur use logistic distribution $z= −2.053+ 0.210∗12−1.010∗2 =\n",
    "−1.553$.Thus $ \\Lambda(−1.553)=\\frac{1}{1+exp(-(-1.553))}=0.174$. Hence the probability of participating in the labor force is 17%\n",
    "\n",
    "if \n",
    "educ=12, kids=3\n",
    "\n",
    "__LPM__:−0.068 i.e probability of participating in the labor force is -6.8 % (Note that we are getting a negative probability,which is non-sensical)\n",
    "\n",
    "__probit__:$\\Phi(−1.5743)= 0.058$(It makes sense campared to the results of LPM). Hence the probability of participating in the labor force is 5.8%\n",
    "\n",
    "__logit__: $\\Lambda(−2.563)= 0.072$ Hence the probability of participating in the labor force is 7.2%\n",
    "\n",
    "- Interpret the coefficient on $educ$\n",
    "\n",
    "__LPM__: Here  the coefficient on $educ$ means that holding $kids$ constant, another year of education is associated with an increase in the probability of being in the labor force by 0.034.\n",
    "\n",
    "__probit__: Here the coefficient has no direct interpretation in terms of the probability that $Y = 1$ Hence, we can say education is positively related to the probability of being in the labor force. However, all we can say about the size of the coefficient is that a 1 year increase in education is associated witha 0.129 increase in the z-value,keeping other variables constant\n",
    "\n",
    "__logit__ : same as probit. (The estimated coefficients can not be interpreted directly as the probability of Y is assumed to be a cdf of logistic distribution (logit) or std normal (probit) distibution. In order to get the predicted probability we need to assign values to the independent variables and get the Z score. Using this score we can get the\n",
    "predicted probability using an appropriate distribution function. For the logistic\n",
    "regression  it is possible to interpret the logit() as log odds.\n",
    "\n",
    "## Omitted variables\n",
    "\n",
    "### Q3\n",
    "Suppose you regress family weekly food expenditure ($E$) on family income ($Y$) and get a nega\u0002tive slope coefficient estimate. Omission of the  explanatory variable family size ($F$) may have  caused this unexpected sign. What would have  to be true about F for this to be the case? Explain  your reasoning. Hint: Write Fas an approximate linear function of family income"
   ]
  }
 ],
 "metadata": {
  "kernelspec": {
   "display_name": "R 4.2.2",
   "language": "R",
   "name": "ir42"
  },
  "language_info": {
   "codemirror_mode": "r",
   "file_extension": ".r",
   "mimetype": "text/x-r-source",
   "name": "R",
   "pygments_lexer": "r",
   "version": "4.2.2"
  }
 },
 "nbformat": 4,
 "nbformat_minor": 5
}
